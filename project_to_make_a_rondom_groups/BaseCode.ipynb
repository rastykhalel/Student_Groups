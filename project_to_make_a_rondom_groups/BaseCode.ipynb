{
 "cells": [
  {
   "cell_type": "code",
   "execution_count": 1,
   "id": "113a69ac",
   "metadata": {},
   "outputs": [],
   "source": [
    "import numpy as np\n",
    "import pandas as pd"
   ]
  },
  {
   "cell_type": "code",
   "execution_count": 2,
   "id": "a2db2c41",
   "metadata": {},
   "outputs": [],
   "source": [
    "file_name = 'students.csv'\n",
    "data = pd.read_csv(file_name, encoding='utf-8')"
   ]
  },
  {
   "cell_type": "code",
   "execution_count": 3,
   "id": "f2472565",
   "metadata": {},
   "outputs": [],
   "source": [
    "student_names = data['Name'].tolist()\n",
    "np.random.shuffle(student_names)"
   ]
  },
  {
   "cell_type": "code",
   "execution_count": 4,
   "id": "2f9d94d8",
   "metadata": {},
   "outputs": [],
   "source": [
    "group_size = 3\n",
    "numberOfGroups=len(student_names) / group_size\n",
    "groups = np.array_split(student_names, numberOfGroups )\n",
    "num_groups = len(groups)"
   ]
  },
  {
   "cell_type": "markdown",
   "id": "6d58d243",
   "metadata": {},
   "source": [
    "### Groups consist of three students and if one student remains, he/she will be with the first group"
   ]
  },
  {
   "cell_type": "code",
   "execution_count": 5,
   "id": "e84cfbec",
   "metadata": {},
   "outputs": [
    {
     "name": "stdout",
     "output_type": "stream",
     "text": [
      "Group 1: ئاگرین, ئامیار, بازیان, ئارتیکا\n",
      "Group 2: ئامانج, برادۆست, ئاران\n",
      "Group 3: ئاژوان, ئارژین, بەرام\n",
      "Group 4: ئاوات, ئاکام, ئادوین\n",
      "Group 5: ئادان, بارزان, باگرۆ\n",
      "Group 6: ئاریوس, ئاکار, ئاشتی\n",
      "Group 7: ئالان, ئارمین, ئامانج\n",
      "Group 8: بەرچاو, بەهێز, باشار\n",
      "Group 9: ئاراکۆ, براخاس, بیرەوەر\n",
      "Group 10: باشۆک, ئاژوان, بەڵێن\n",
      "Group 11: ئاریشن, بەرزەفڕ, بووژان\n",
      "Group 12: باریسان, ئاریوان, ئاسۆ\n",
      "Group 13: بەرهەم, ئاریتما, ئاهیر\n"
     ]
    }
   ],
   "source": [
    "for i in range(num_groups):\n",
    "    group_list = ', '.join(groups[i])\n",
    "    print(f\"Group {i+1}: {group_list}\")"
   ]
  },
  {
   "cell_type": "markdown",
   "id": "b1ab8f3d",
   "metadata": {},
   "source": [
    "### Groups can only contain three students, the last one will be left alone"
   ]
  },
  {
   "cell_type": "code",
   "execution_count": 6,
   "id": "e665d6c8",
   "metadata": {},
   "outputs": [
    {
     "name": "stdout",
     "output_type": "stream",
     "text": [
      "Group 1: ئاگرین, ئامیار, بازیان\n",
      "Group 2: ئارتیکا, ئامانج, برادۆست\n",
      "Group 3: ئاران, ئاژوان, ئارژین\n",
      "Group 4: بەرام, ئاوات, ئاکام\n",
      "Group 5: ئادوین, ئادان, بارزان\n",
      "Group 6: باگرۆ, ئاریوس, ئاکار\n",
      "Group 7: ئاشتی, ئالان, ئارمین\n",
      "Group 8: ئامانج, بەرچاو, بەهێز\n",
      "Group 9: باشار, ئاراکۆ, براخاس\n",
      "Group 10: بیرەوەر, باشۆک, ئاژوان\n",
      "Group 11: بەڵێن, ئاریشن, بەرزەفڕ\n",
      "Group 12: بووژان, باریسان, ئاریوان\n",
      "Group 13: ئاسۆ, بەرهەم, ئاریتما\n",
      "Group 14: ئاهیر\n"
     ]
    }
   ],
   "source": [
    "for i in range(0, len(student_names), group_size):\n",
    "    group = student_names[i:i+group_size]\n",
    "    group_list = ', '.join(group)\n",
    "    group_number = i // group_size + 1\n",
    "    print(f\"Group {group_number}: {group_list}\")"
   ]
  },
  {
   "cell_type": "code",
   "execution_count": null,
   "id": "fc566e3e",
   "metadata": {},
   "outputs": [],
   "source": []
  }
 ],
 "metadata": {
  "kernelspec": {
   "display_name": "Python 3 (ipykernel)",
   "language": "python",
   "name": "python3"
  },
  "language_info": {
   "codemirror_mode": {
    "name": "ipython",
    "version": 3
   },
   "file_extension": ".py",
   "mimetype": "text/x-python",
   "name": "python",
   "nbconvert_exporter": "python",
   "pygments_lexer": "ipython3",
   "version": "3.9.7"
  }
 },
 "nbformat": 4,
 "nbformat_minor": 5
}
