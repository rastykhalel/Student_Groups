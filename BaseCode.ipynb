{
  "cells": [
    {
      "cell_type": "markdown",
      "metadata": {
        "id": "view-in-github",
        "colab_type": "text"
      },
      "source": [
        "<a href=\"https://colab.research.google.com/github/rastykhalel/Student_Groups/blob/main/BaseCode.ipynb\" target=\"_parent\"><img src=\"https://colab.research.google.com/assets/colab-badge.svg\" alt=\"Open In Colab\"/></a>"
      ]
    },
    {
      "cell_type": "code",
      "execution_count": 21,
      "id": "113a69ac",
      "metadata": {
        "id": "113a69ac"
      },
      "outputs": [],
      "source": [
        "import numpy as np\n",
        "import pandas as pd"
      ]
    },
    {
      "cell_type": "code",
      "execution_count": 22,
      "id": "a2db2c41",
      "metadata": {
        "id": "a2db2c41"
      },
      "outputs": [],
      "source": [
        "file_name = 'students.csv'\n",
        "data = pd.read_csv(file_name, encoding='utf-8')"
      ]
    },
    {
      "cell_type": "code",
      "execution_count": 23,
      "id": "0e7b9a48",
      "metadata": {
        "id": "0e7b9a48"
      },
      "outputs": [],
      "source": [
        "student_names = data['Name'].tolist()\n",
        "np.random.shuffle(student_names)"
      ]
    },
    {
      "cell_type": "code",
      "execution_count": 24,
      "id": "8ac68d84",
      "metadata": {
        "id": "8ac68d84"
      },
      "outputs": [],
      "source": [
        "group_size = 3\n",
        "numberOfGroups=len(student_names) / group_size\n",
        "groups = np.array_split(student_names, numberOfGroups )\n",
        "num_groups = len(groups)"
      ]
    },
    {
      "cell_type": "markdown",
      "id": "c280a7db",
      "metadata": {
        "id": "c280a7db"
      },
      "source": [
        "### Groups contains of three students and if one student remains, he/she will be with the first group"
      ]
    },
    {
      "cell_type": "code",
      "execution_count": 25,
      "id": "77cd8730",
      "metadata": {
        "id": "77cd8730",
        "outputId": "885067fa-ec37-4660-b446-0bcef3fb751d",
        "colab": {
          "base_uri": "https://localhost:8080/"
        }
      },
      "outputs": [
        {
          "output_type": "stream",
          "name": "stdout",
          "text": [
            "Group 1: بەهێز, ئادان, ئاریوان, ئاژوان\n",
            "Group 2: ئاریتما, باشۆک, ئامانج\n",
            "Group 3: ئادوین, ئامانج, ئاران\n",
            "Group 4: ئاسۆ, باریسان, باگرۆ\n",
            "Group 5: براخاس, برادۆست, ئارمین\n",
            "Group 6: بەرچاو, بەڵێن, ئارتیکا\n",
            "Group 7: ئالان, ئاکار, ئاریوس\n",
            "Group 8: ئاهیر, ئاگرین, بووژان\n",
            "Group 9: ئاراکۆ, ئاوات, ئاریشن\n",
            "Group 10: باشار, بەرام, بارزان\n",
            "Group 11: بەرهەم, بازیان, بەرزەفڕ\n",
            "Group 12: ئاشتی, بیرەوەر, ئامیار\n",
            "Group 13: ئاژوان, ئارژین, ئاکام\n"
          ]
        }
      ],
      "source": [
        "for i in range(num_groups):\n",
        "    group_list = ', '.join(groups[i])\n",
        "    print(f\"Group {i+1}: {group_list}\")"
      ]
    },
    {
      "cell_type": "markdown",
      "id": "8b8bc0ae",
      "metadata": {
        "id": "8b8bc0ae"
      },
      "source": [
        "### Groups can only contain three students, the last one will be alone"
      ]
    },
    {
      "cell_type": "code",
      "execution_count": 26,
      "id": "e665d6c8",
      "metadata": {
        "id": "e665d6c8",
        "outputId": "6678da9b-0fb4-4ef4-f823-bd1b6032bc33",
        "colab": {
          "base_uri": "https://localhost:8080/"
        }
      },
      "outputs": [
        {
          "output_type": "stream",
          "name": "stdout",
          "text": [
            "Group 1: بەهێز, ئادان, ئاریوان\n",
            "Group 2: ئاژوان, ئاریتما, باشۆک\n",
            "Group 3: ئامانج, ئادوین, ئامانج\n",
            "Group 4: ئاران, ئاسۆ, باریسان\n",
            "Group 5: باگرۆ, براخاس, برادۆست\n",
            "Group 6: ئارمین, بەرچاو, بەڵێن\n",
            "Group 7: ئارتیکا, ئالان, ئاکار\n",
            "Group 8: ئاریوس, ئاهیر, ئاگرین\n",
            "Group 9: بووژان, ئاراکۆ, ئاوات\n",
            "Group 10: ئاریشن, باشار, بەرام\n",
            "Group 11: بارزان, بەرهەم, بازیان\n",
            "Group 12: بەرزەفڕ, ئاشتی, بیرەوەر\n",
            "Group 13: ئامیار, ئاژوان, ئارژین\n",
            "Group 14: ئاکام\n"
          ]
        }
      ],
      "source": [
        "for i in range(0, len(student_names), group_size):\n",
        "    group = student_names[i:i+group_size]\n",
        "    group_list = ', '.join(group)\n",
        "    group_number = i // group_size + 1\n",
        "    print(f\"Group {group_number}: {group_list}\")"
      ]
    }
  ],
  "metadata": {
    "kernelspec": {
      "display_name": "Python 3 (ipykernel)",
      "language": "python",
      "name": "python3"
    },
    "language_info": {
      "codemirror_mode": {
        "name": "ipython",
        "version": 3
      },
      "file_extension": ".py",
      "mimetype": "text/x-python",
      "name": "python",
      "nbconvert_exporter": "python",
      "pygments_lexer": "ipython3",
      "version": "3.9.7"
    },
    "colab": {
      "provenance": [],
      "include_colab_link": true
    }
  },
  "nbformat": 4,
  "nbformat_minor": 5
}