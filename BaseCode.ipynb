{
  "cells": [
    {
      "cell_type": "markdown",
      "metadata": {
        "id": "view-in-github",
        "colab_type": "text"
      },
      "source": [
        "<a href=\"https://colab.research.google.com/github/rastykhalel/Student_Groups/blob/main/BaseCode.ipynb\" target=\"_parent\"><img src=\"https://colab.research.google.com/assets/colab-badge.svg\" alt=\"Open In Colab\"/></a>"
      ]
    },
    {
      "cell_type": "code",
      "execution_count": null,
      "id": "113a69ac",
      "metadata": {
        "id": "113a69ac"
      },
      "outputs": [],
      "source": [
        "import numpy as np\n",
        "import pandas as pd"
      ]
    },
    {
      "cell_type": "code",
      "execution_count": null,
      "id": "a2db2c41",
      "metadata": {
        "id": "a2db2c41"
      },
      "outputs": [],
      "source": [
        "file_name = 'students.csv'\n",
        "data = pd.read_csv(file_name)"
      ]
    },
    {
      "cell_type": "code",
      "execution_count": null,
      "id": "0e7b9a48",
      "metadata": {
        "id": "0e7b9a48"
      },
      "outputs": [],
      "source": [
        "student_names = data['Name'].tolist()\n",
        "np.random.shuffle(student_names)"
      ]
    },
    {
      "cell_type": "code",
      "execution_count": null,
      "id": "8ac68d84",
      "metadata": {
        "id": "8ac68d84"
      },
      "outputs": [],
      "source": [
        "group_size = 3\n",
        "numberOfGroups=len(student_names) / group_size\n",
        "groups = np.array_split(student_names, numberOfGroups )\n",
        "num_groups = len(groups)"
      ]
    },
    {
      "cell_type": "markdown",
      "id": "c280a7db",
      "metadata": {
        "id": "c280a7db"
      },
      "source": [
        "### Groups contains of three students and if one student remains, he/she will be with the first group"
      ]
    },
    {
      "cell_type": "code",
      "execution_count": null,
      "id": "77cd8730",
      "metadata": {
        "id": "77cd8730",
        "outputId": "930674dc-8f2c-4935-c457-359fc4477b02",
        "colab": {
          "base_uri": "https://localhost:8080/"
        }
      },
      "outputs": [
        {
          "output_type": "stream",
          "name": "stdout",
          "text": [
            "Group 1: Sophia Brown, Noah Martinez, Scarlett Wright, Ava Rodriguez\n",
            "Group 2: William Moore, Harper Harris, Madison Ross\n",
            "Group 3: Liam Davis, Gabriel Turner, Benjamin Young\n",
            "Group 4: Christopher Gray, Charlotte Hall, Michael Baker\n",
            "Group 5: James Taylor, Jackson Perez, Samuel Cooper\n",
            "Group 6: Aiden White, Mia Thompson, Lily Mitchell\n",
            "Group 7: Oliver King, Emily Johnson, Grace Rivera\n",
            "Group 8: Daniel Carter, Elijah Clark, Sofia Torres\n",
            "Group 9: Zoey Peterson, Mason Miller, Logan Hill\n",
            "Group 10: David Morgan, Amelia Lewis, Chloe Nelson\n",
            "Group 11: Olivia Garcia, Evelyn Scott, Isabella Jones\n",
            "Group 12: Ethan Williams, Alexander Lee, Lucas Jackson\n",
            "Group 13: Emily Murphy, Avery Ward, Abigail Adams\n"
          ]
        }
      ],
      "source": [
        "for i in range(num_groups):\n",
        "    group_list = ', '.join(groups[i])\n",
        "    print(f\"Group {i+1}: {group_list}\")"
      ]
    },
    {
      "cell_type": "markdown",
      "id": "8b8bc0ae",
      "metadata": {
        "id": "8b8bc0ae"
      },
      "source": [
        "### Groups can only contain three students, the last one will be alone"
      ]
    },
    {
      "cell_type": "code",
      "execution_count": null,
      "id": "e665d6c8",
      "metadata": {
        "id": "e665d6c8",
        "outputId": "300df8ff-6bfa-48fe-b439-24cfa3ca593e",
        "colab": {
          "base_uri": "https://localhost:8080/"
        }
      },
      "outputs": [
        {
          "output_type": "stream",
          "name": "stdout",
          "text": [
            "Group 1: Sophia Brown, Noah Martinez, Scarlett Wright\n",
            "Group 2: Ava Rodriguez, William Moore, Harper Harris\n",
            "Group 3: Madison Ross, Liam Davis, Gabriel Turner\n",
            "Group 4: Benjamin Young, Christopher Gray, Charlotte Hall\n",
            "Group 5: Michael Baker, James Taylor, Jackson Perez\n",
            "Group 6: Samuel Cooper, Aiden White, Mia Thompson\n",
            "Group 7: Lily Mitchell, Oliver King, Emily Johnson\n",
            "Group 8: Grace Rivera, Daniel Carter, Elijah Clark\n",
            "Group 9: Sofia Torres, Zoey Peterson, Mason Miller\n",
            "Group 10: Logan Hill, David Morgan, Amelia Lewis\n",
            "Group 11: Chloe Nelson, Olivia Garcia, Evelyn Scott\n",
            "Group 12: Isabella Jones, Ethan Williams, Alexander Lee\n",
            "Group 13: Lucas Jackson, Emily Murphy, Avery Ward\n",
            "Group 14: Abigail Adams\n"
          ]
        }
      ],
      "source": [
        "for i in range(0, len(student_names), group_size):\n",
        "    group = student_names[i:i+group_size]\n",
        "    group_list = ', '.join(group)\n",
        "    group_number = i // group_size + 1\n",
        "    print(f\"Group {group_number}: {group_list}\")"
      ]
    }
  ],
  "metadata": {
    "kernelspec": {
      "display_name": "Python 3 (ipykernel)",
      "language": "python",
      "name": "python3"
    },
    "language_info": {
      "codemirror_mode": {
        "name": "ipython",
        "version": 3
      },
      "file_extension": ".py",
      "mimetype": "text/x-python",
      "name": "python",
      "nbconvert_exporter": "python",
      "pygments_lexer": "ipython3",
      "version": "3.9.7"
    },
    "colab": {
      "provenance": [],
      "include_colab_link": true
    }
  },
  "nbformat": 4,
  "nbformat_minor": 5
}